{
 "cells": [
  {
   "cell_type": "code",
   "execution_count": 1,
   "metadata": {},
   "outputs": [],
   "source": [
    "import numpy as np\n",
    "import pandas as pd\n",
    "import scipy as sp\n",
    "import scipy.stats\n",
    "import math"
   ]
  },
  {
   "cell_type": "code",
   "execution_count": 2,
   "metadata": {},
   "outputs": [],
   "source": [
    "df = pd.read_csv('ej1.csv')"
   ]
  },
  {
   "cell_type": "code",
   "execution_count": 3,
   "metadata": {},
   "outputs": [
    {
     "data": {
      "text/plain": [
       "Nombre       object\n",
       "Estatura    float64\n",
       "Peso        float64\n",
       "Genero       object\n",
       "dtype: object"
      ]
     },
     "execution_count": 3,
     "metadata": {},
     "output_type": "execute_result"
    }
   ],
   "source": [
    "df.dtypes"
   ]
  },
  {
   "cell_type": "code",
   "execution_count": 4,
   "metadata": {},
   "outputs": [
    {
     "data": {
      "text/html": [
       "<div>\n",
       "<style scoped>\n",
       "    .dataframe tbody tr th:only-of-type {\n",
       "        vertical-align: middle;\n",
       "    }\n",
       "\n",
       "    .dataframe tbody tr th {\n",
       "        vertical-align: top;\n",
       "    }\n",
       "\n",
       "    .dataframe thead th {\n",
       "        text-align: right;\n",
       "    }\n",
       "</style>\n",
       "<table border=\"1\" class=\"dataframe\">\n",
       "  <thead>\n",
       "    <tr style=\"text-align: right;\">\n",
       "      <th></th>\n",
       "      <th>Nombre</th>\n",
       "      <th>Estatura</th>\n",
       "      <th>Peso</th>\n",
       "      <th>Genero</th>\n",
       "    </tr>\n",
       "  </thead>\n",
       "  <tbody>\n",
       "    <tr>\n",
       "      <th>0</th>\n",
       "      <td>Denis</td>\n",
       "      <td>1.72</td>\n",
       "      <td>75.3</td>\n",
       "      <td>M</td>\n",
       "    </tr>\n",
       "    <tr>\n",
       "      <th>1</th>\n",
       "      <td>Guadalupe</td>\n",
       "      <td>1.82</td>\n",
       "      <td>81.6</td>\n",
       "      <td>M</td>\n",
       "    </tr>\n",
       "    <tr>\n",
       "      <th>2</th>\n",
       "      <td>Alex</td>\n",
       "      <td>1.80</td>\n",
       "      <td>86.1</td>\n",
       "      <td>M</td>\n",
       "    </tr>\n",
       "    <tr>\n",
       "      <th>3</th>\n",
       "      <td>Alex</td>\n",
       "      <td>1.70</td>\n",
       "      <td>77.1</td>\n",
       "      <td>M</td>\n",
       "    </tr>\n",
       "    <tr>\n",
       "      <th>4</th>\n",
       "      <td>Cris</td>\n",
       "      <td>1.73</td>\n",
       "      <td>78.2</td>\n",
       "      <td>M</td>\n",
       "    </tr>\n",
       "    <tr>\n",
       "      <th>5</th>\n",
       "      <td>Juan</td>\n",
       "      <td>1.80</td>\n",
       "      <td>74.8</td>\n",
       "      <td>M</td>\n",
       "    </tr>\n",
       "    <tr>\n",
       "      <th>6</th>\n",
       "      <td>Juan</td>\n",
       "      <td>1.80</td>\n",
       "      <td>74.3</td>\n",
       "      <td>M</td>\n",
       "    </tr>\n",
       "    <tr>\n",
       "      <th>7</th>\n",
       "      <td>Denis</td>\n",
       "      <td>1.50</td>\n",
       "      <td>50.5</td>\n",
       "      <td>F</td>\n",
       "    </tr>\n",
       "    <tr>\n",
       "      <th>8</th>\n",
       "      <td>Alex</td>\n",
       "      <td>1.52</td>\n",
       "      <td>45.3</td>\n",
       "      <td>F</td>\n",
       "    </tr>\n",
       "    <tr>\n",
       "      <th>9</th>\n",
       "      <td>Cris</td>\n",
       "      <td>1.62</td>\n",
       "      <td>61.2</td>\n",
       "      <td>F</td>\n",
       "    </tr>\n",
       "    <tr>\n",
       "      <th>10</th>\n",
       "      <td>Rene</td>\n",
       "      <td>1.67</td>\n",
       "      <td>68.0</td>\n",
       "      <td>F</td>\n",
       "    </tr>\n",
       "    <tr>\n",
       "      <th>11</th>\n",
       "      <td>Guadalupe</td>\n",
       "      <td>1.65</td>\n",
       "      <td>58.9</td>\n",
       "      <td>F</td>\n",
       "    </tr>\n",
       "    <tr>\n",
       "      <th>12</th>\n",
       "      <td>Guadalupe</td>\n",
       "      <td>1.75</td>\n",
       "      <td>68.0</td>\n",
       "      <td>F</td>\n",
       "    </tr>\n",
       "  </tbody>\n",
       "</table>\n",
       "</div>"
      ],
      "text/plain": [
       "       Nombre  Estatura  Peso Genero\n",
       "0       Denis      1.72  75.3      M\n",
       "1   Guadalupe      1.82  81.6      M\n",
       "2        Alex      1.80  86.1      M\n",
       "3        Alex      1.70  77.1      M\n",
       "4        Cris      1.73  78.2      M\n",
       "5        Juan      1.80  74.8      M\n",
       "6        Juan      1.80  74.3      M\n",
       "7       Denis      1.50  50.5      F\n",
       "8        Alex      1.52  45.3      F\n",
       "9        Cris      1.62  61.2      F\n",
       "10       Rene      1.67  68.0      F\n",
       "11  Guadalupe      1.65  58.9      F\n",
       "12  Guadalupe      1.75  68.0      F"
      ]
     },
     "execution_count": 4,
     "metadata": {},
     "output_type": "execute_result"
    }
   ],
   "source": [
    "df"
   ]
  },
  {
   "cell_type": "markdown",
   "metadata": {},
   "source": [
    "## Clasificador Bayesiano ingenuo\n",
    "### La probabilidad conjunta está dada por\n",
    "$$ P(x_1, ..., x_d, y) = \\biggl(\\prod_{j=1}^{d} P(x_{j}|y = c)\\biggr)P(y = c) $$"
   ]
  },
  {
   "cell_type": "markdown",
   "metadata": {},
   "source": [
    "## Solución por EMV\n",
    "### Comenzamos dividiendo nuestro conjunto de datos en las dos clases"
   ]
  },
  {
   "cell_type": "code",
   "execution_count": 5,
   "metadata": {},
   "outputs": [],
   "source": [
    "df_mujer = df.loc[df['Genero'] == \"F\"]\n",
    "df_hombre = df.loc[df['Genero'] == \"M\"]"
   ]
  },
  {
   "cell_type": "code",
   "execution_count": 6,
   "metadata": {},
   "outputs": [
    {
     "data": {
      "text/html": [
       "<div>\n",
       "<style scoped>\n",
       "    .dataframe tbody tr th:only-of-type {\n",
       "        vertical-align: middle;\n",
       "    }\n",
       "\n",
       "    .dataframe tbody tr th {\n",
       "        vertical-align: top;\n",
       "    }\n",
       "\n",
       "    .dataframe thead th {\n",
       "        text-align: right;\n",
       "    }\n",
       "</style>\n",
       "<table border=\"1\" class=\"dataframe\">\n",
       "  <thead>\n",
       "    <tr style=\"text-align: right;\">\n",
       "      <th></th>\n",
       "      <th>Nombre</th>\n",
       "      <th>Estatura</th>\n",
       "      <th>Peso</th>\n",
       "      <th>Genero</th>\n",
       "    </tr>\n",
       "  </thead>\n",
       "  <tbody>\n",
       "    <tr>\n",
       "      <th>7</th>\n",
       "      <td>Denis</td>\n",
       "      <td>1.50</td>\n",
       "      <td>50.5</td>\n",
       "      <td>F</td>\n",
       "    </tr>\n",
       "    <tr>\n",
       "      <th>8</th>\n",
       "      <td>Alex</td>\n",
       "      <td>1.52</td>\n",
       "      <td>45.3</td>\n",
       "      <td>F</td>\n",
       "    </tr>\n",
       "    <tr>\n",
       "      <th>9</th>\n",
       "      <td>Cris</td>\n",
       "      <td>1.62</td>\n",
       "      <td>61.2</td>\n",
       "      <td>F</td>\n",
       "    </tr>\n",
       "    <tr>\n",
       "      <th>10</th>\n",
       "      <td>Rene</td>\n",
       "      <td>1.67</td>\n",
       "      <td>68.0</td>\n",
       "      <td>F</td>\n",
       "    </tr>\n",
       "    <tr>\n",
       "      <th>11</th>\n",
       "      <td>Guadalupe</td>\n",
       "      <td>1.65</td>\n",
       "      <td>58.9</td>\n",
       "      <td>F</td>\n",
       "    </tr>\n",
       "    <tr>\n",
       "      <th>12</th>\n",
       "      <td>Guadalupe</td>\n",
       "      <td>1.75</td>\n",
       "      <td>68.0</td>\n",
       "      <td>F</td>\n",
       "    </tr>\n",
       "  </tbody>\n",
       "</table>\n",
       "</div>"
      ],
      "text/plain": [
       "       Nombre  Estatura  Peso Genero\n",
       "7       Denis      1.50  50.5      F\n",
       "8        Alex      1.52  45.3      F\n",
       "9        Cris      1.62  61.2      F\n",
       "10       Rene      1.67  68.0      F\n",
       "11  Guadalupe      1.65  58.9      F\n",
       "12  Guadalupe      1.75  68.0      F"
      ]
     },
     "execution_count": 6,
     "metadata": {},
     "output_type": "execute_result"
    }
   ],
   "source": [
    "df_mujer"
   ]
  },
  {
   "cell_type": "code",
   "execution_count": 7,
   "metadata": {},
   "outputs": [
    {
     "data": {
      "text/html": [
       "<div>\n",
       "<style scoped>\n",
       "    .dataframe tbody tr th:only-of-type {\n",
       "        vertical-align: middle;\n",
       "    }\n",
       "\n",
       "    .dataframe tbody tr th {\n",
       "        vertical-align: top;\n",
       "    }\n",
       "\n",
       "    .dataframe thead th {\n",
       "        text-align: right;\n",
       "    }\n",
       "</style>\n",
       "<table border=\"1\" class=\"dataframe\">\n",
       "  <thead>\n",
       "    <tr style=\"text-align: right;\">\n",
       "      <th></th>\n",
       "      <th>Nombre</th>\n",
       "      <th>Estatura</th>\n",
       "      <th>Peso</th>\n",
       "      <th>Genero</th>\n",
       "    </tr>\n",
       "  </thead>\n",
       "  <tbody>\n",
       "    <tr>\n",
       "      <th>0</th>\n",
       "      <td>Denis</td>\n",
       "      <td>1.72</td>\n",
       "      <td>75.3</td>\n",
       "      <td>M</td>\n",
       "    </tr>\n",
       "    <tr>\n",
       "      <th>1</th>\n",
       "      <td>Guadalupe</td>\n",
       "      <td>1.82</td>\n",
       "      <td>81.6</td>\n",
       "      <td>M</td>\n",
       "    </tr>\n",
       "    <tr>\n",
       "      <th>2</th>\n",
       "      <td>Alex</td>\n",
       "      <td>1.80</td>\n",
       "      <td>86.1</td>\n",
       "      <td>M</td>\n",
       "    </tr>\n",
       "    <tr>\n",
       "      <th>3</th>\n",
       "      <td>Alex</td>\n",
       "      <td>1.70</td>\n",
       "      <td>77.1</td>\n",
       "      <td>M</td>\n",
       "    </tr>\n",
       "    <tr>\n",
       "      <th>4</th>\n",
       "      <td>Cris</td>\n",
       "      <td>1.73</td>\n",
       "      <td>78.2</td>\n",
       "      <td>M</td>\n",
       "    </tr>\n",
       "    <tr>\n",
       "      <th>5</th>\n",
       "      <td>Juan</td>\n",
       "      <td>1.80</td>\n",
       "      <td>74.8</td>\n",
       "      <td>M</td>\n",
       "    </tr>\n",
       "    <tr>\n",
       "      <th>6</th>\n",
       "      <td>Juan</td>\n",
       "      <td>1.80</td>\n",
       "      <td>74.3</td>\n",
       "      <td>M</td>\n",
       "    </tr>\n",
       "  </tbody>\n",
       "</table>\n",
       "</div>"
      ],
      "text/plain": [
       "      Nombre  Estatura  Peso Genero\n",
       "0      Denis      1.72  75.3      M\n",
       "1  Guadalupe      1.82  81.6      M\n",
       "2       Alex      1.80  86.1      M\n",
       "3       Alex      1.70  77.1      M\n",
       "4       Cris      1.73  78.2      M\n",
       "5       Juan      1.80  74.8      M\n",
       "6       Juan      1.80  74.3      M"
      ]
     },
     "execution_count": 7,
     "metadata": {},
     "output_type": "execute_result"
    }
   ],
   "source": [
    "df_hombre"
   ]
  },
  {
   "cell_type": "markdown",
   "metadata": {},
   "source": [
    "### Calculando la probabilidad apriori para ambas clases.\n",
    "#### Se asumirá una distribución de Bernoulli al ser un problema de clasificación binaria, para la cual el EMV es:\n",
    "$$ \\hat{q}_C = \\frac{N_C}{N}$$\n"
   ]
  },
  {
   "cell_type": "code",
   "execution_count": 8,
   "metadata": {},
   "outputs": [
    {
     "name": "stdout",
     "output_type": "stream",
     "text": [
      "q para la clase mujer:\n",
      "0.46153846153846156\n",
      "\n",
      "q para la clase hombre:\n",
      "0.5384615384615384\n",
      "\n"
     ]
    }
   ],
   "source": [
    "q_ber_emv_f = float(len(df_mujer)/len(df))\n",
    "q_ber_emv_m = float(len(df_hombre)/len(df))\n",
    "print(f\"q para la clase mujer:\\n\"\n",
    "      f\"{q_ber_emv_f}\\n\")\n",
    "print(f\"q para la clase hombre:\\n\"\n",
    "      f\"{q_ber_emv_m}\\n\")"
   ]
  },
  {
   "cell_type": "markdown",
   "metadata": {},
   "source": [
    "### Estimando la media y varianza para estatura y peso de ambas clases\n",
    "#### Al ser tanto la estatura como el peso variables continuas se asumirán distribuciones normales, para la cual el EMV para los parámetros.\n",
    "#### Para la media:\n",
    "$$\\hat{\\mu}_{(j|C)} = \\frac{1}{n}\\sum_{i=1}^{n} x_j^{(i)}$$\n",
    "#### Para la varianza:\n",
    "$$\\hat{\\sigma}_{(j|C)} = \\frac{1}{n}\\sum_{i=1}^{n} (x_j^{(i)} - \\hat{\\mu}_{(j|C)})^2$$"
   ]
  },
  {
   "cell_type": "code",
   "execution_count": 9,
   "metadata": {},
   "outputs": [],
   "source": [
    "def variance(li):\n",
    "    mu = np.mean(li)   \n",
    "    return float(sum(list(map(lambda x : (x - mu)**2, li))))/len(li)"
   ]
  },
  {
   "cell_type": "code",
   "execution_count": 10,
   "metadata": {},
   "outputs": [
    {
     "name": "stdout",
     "output_type": "stream",
     "text": [
      "Media de Estatura para mujer: 1.6183333333333334\n",
      "Media de Estatura para hombre: 1.7671428571428573\n",
      "Media de peso para mujer: 58.65\n",
      "Media de peso para hombre: 78.2\n"
     ]
    }
   ],
   "source": [
    "dim_atribs = 2\n",
    "dim_params = 2\n",
    "dim_clases = 2\n",
    "gauss_params = np.zeros((dim_atribs,dim_params,dim_clases))\n",
    "gauss_params[0, 0, 0] = np.mean(df_mujer.Estatura)\n",
    "gauss_params[0, 1, 0] = variance(df_mujer.Estatura)\n",
    "gauss_params[1, 0, 0] = np.mean(df_mujer.Peso)\n",
    "gauss_params[1, 1, 0] = variance(df_mujer.Peso)\n",
    "gauss_params[0, 0, 1] = np.mean(df_hombre.Estatura)\n",
    "gauss_params[0, 1, 1] = variance(df_hombre.Estatura)\n",
    "gauss_params[1, 0, 1] = np.mean(df_hombre.Peso)\n",
    "gauss_params[1, 1, 1] = variance(df_hombre.Peso)\n",
    "print(\"Media de Estatura para mujer: \" + str(gauss_params[0, 0, 0]))\n",
    "print(\"Media de Estatura para hombre: \" + str(gauss_params[0, 0, 1]))\n",
    "print(\"Media de peso para mujer: \" + str(gauss_params[1, 0, 0]))\n",
    "print(\"Media de peso para hombre: \" + str(gauss_params[1, 0, 1]))"
   ]
  },
  {
   "cell_type": "code",
   "execution_count": 11,
   "metadata": {},
   "outputs": [
    {
     "name": "stdout",
     "output_type": "stream",
     "text": [
      "Varianza de estatura para mujer: 0.00744722222222222\n",
      "Varianza de estatura para hombre: 0.0020204081632653097\n",
      "Varianza de peso para mujer: 71.00916666666667\n",
      "Varianza de peso para hombre: 15.765714285714276\n"
     ]
    }
   ],
   "source": [
    "print(\"Varianza de estatura para mujer: \" + str(gauss_params[0, 1, 0]))\n",
    "print(\"Varianza de estatura para hombre: \" + str(gauss_params[0, 1, 1]))\n",
    "print(\"Varianza de peso para mujer: \" + str(gauss_params[1, 1, 0]))\n",
    "print(\"Varianza de peso para hombre: \" + str(gauss_params[1, 1, 1]))"
   ]
  },
  {
   "cell_type": "markdown",
   "metadata": {},
   "source": [
    "### Estimando el valor los parámetros para la distribución categórica del nombre, para cada clase, donde cada nombre corresponde a una categoría.\n",
    "$$ \\hat{q}_k = \\frac{1}{n}c_k$$"
   ]
  },
  {
   "cell_type": "code",
   "execution_count": 12,
   "metadata": {},
   "outputs": [
    {
     "name": "stdout",
     "output_type": "stream",
     "text": [
      "{'Alex': 0.16666666666666666, 'Guadalupe': 0.3333333333333333, 'Denis': 0.16666666666666666, 'Cris': 0.16666666666666666, 'Rene': 0.16666666666666666, 'Juan': 0.0}\n",
      "{'Alex': 0.2857142857142857, 'Guadalupe': 0.14285714285714285, 'Denis': 0.14285714285714285, 'Cris': 0.14285714285714285, 'Rene': 0.0, 'Juan': 0.2857142857142857}\n"
     ]
    }
   ],
   "source": [
    "names = set(df.Nombre)\n",
    "c_m = dict(zip(names, [0]*len(names)))\n",
    "c_f = dict(zip(names, [0]*len(names)))\n",
    "for name in df_mujer.Nombre:\n",
    "    c_f[name]+=1\n",
    "for name in df_hombre.Nombre:\n",
    "    c_m[name]+=1\n",
    "for k, v in c_f.items():\n",
    "    c_f[k] = v/len(df_mujer)\n",
    "for k, v in c_m.items():\n",
    "    c_m[k] = v/len(df_hombre)\n",
    "print(c_f)\n",
    "print(c_m)"
   ]
  },
  {
   "cell_type": "markdown",
   "metadata": {},
   "source": [
    "### Definiendo las distribuciones a utilizar\n",
    "#### Para calcular la probabilidad de que una variable aleatoria X tome un valor entre a y b está dada por:\n",
    "$$P(a < X < b) = \\int_{a}^{b} f(x)dx = F(a) - F(b)$$\n",
    "#### Donde la función $F(.)$ es la función de distribución acumulativa"
   ]
  },
  {
   "cell_type": "code",
   "execution_count": 13,
   "metadata": {},
   "outputs": [],
   "source": [
    "#Normal\n",
    "def prob_normal(mu, sigma, X, a, b):\n",
    "    return scipy.stats.norm.cdf(X + b, loc=mu, scale=math.sqrt(sigma)) - scipy.stats.norm.cdf(X + a, loc=mu, scale=math.sqrt(sigma))\n",
    "\n",
    "\n",
    "#Categórica\n",
    "def prob_categorica(dic, c):\n",
    "    return dic[c]\n"
   ]
  },
  {
   "cell_type": "markdown",
   "metadata": {},
   "source": [
    "### Predicciones usando EMV\n",
    "$$ \\hat{y} = argmax_{c}\\biggl(\\biggl(\\prod_{j=1}^{d} P(x_{j}|y = c)\\biggr)P(y = c)\\biggr) $$"
   ]
  },
  {
   "cell_type": "code",
   "execution_count": 14,
   "metadata": {},
   "outputs": [
    {
     "name": "stdout",
     "output_type": "stream",
     "text": [
      "0\n",
      "1\n",
      "1\n",
      "1\n",
      "0\n"
     ]
    }
   ],
   "source": [
    "ejemplos = [['Rene', 1.6800, 65.000], ['Guadalupe', 1.7500, 80.000], ['Denis', 1.8000, 79.000], ['Alex', 1.900, 85.000], ['Cris', 1.6500, 70.000]]\n",
    "for ejemplo in ejemplos:\n",
    "    #Mujer\n",
    "    n1 = q_ber_emv_f*prob_categorica(c_f, ejemplo[0])*prob_normal(gauss_params[0, 0, 0], gauss_params[0, 1, 0], ejemplo[1], -.005, .005)*prob_normal(gauss_params[1, 0, 0], gauss_params[1, 1, 0], ejemplo[2], -.05, .05)\n",
    "    #Hombre\n",
    "    n2 = q_ber_emv_m*prob_categorica(c_m, ejemplo[0])*prob_normal(gauss_params[0, 0, 1], gauss_params[0, 1, 1], ejemplo[1], -.005, .005)*prob_normal(gauss_params[1, 0, 1], gauss_params[1, 1, 1], ejemplo[2], -.05, .05)\n",
    "    print(np.argmax([n1, n2]))\n",
    "    "
   ]
  },
  {
   "cell_type": "markdown",
   "metadata": {},
   "source": [
    "## Solución por MAP\n",
    "### Calculando la probabilidad apriori para ambas clases\n",
    "$$ \\hat{q}_C = \\frac{N_C + \\alpha - 1}{N + \\beta + \\alpha - 2}$$"
   ]
  },
  {
   "cell_type": "code",
   "execution_count": 15,
   "metadata": {},
   "outputs": [],
   "source": [
    "alfa_ber = 2.\n",
    "alfa_cat = 2.\n",
    "q_ber_map_f = float((len(df_mujer) + alfa_ber - 1)/(len(df) + 2))\n",
    "q_ber_map_m = float((len(df_hombre) + alfa_ber - 1)/(len(df) + 2))\n",
    "\n",
    "gauss_map_params = np.zeros((dim_atribs,dim_params,dim_clases))\n",
    "gauss_map_params[0, 0, 0] = 1.5\n",
    "gauss_map_params[0, 1, 0] = 0.1\n",
    "gauss_map_params[1, 0, 0] = 70.3\n",
    "gauss_map_params[1, 1, 0] = 85.0\n",
    "gauss_map_params[0, 0, 1] = 1.7\n",
    "gauss_map_params[0, 1, 1] = 0.3\n",
    "gauss_map_params[1, 0, 1] = 85.5\n",
    "gauss_map_params[1, 1, 1] = 17.0"
   ]
  },
  {
   "cell_type": "markdown",
   "metadata": {},
   "source": [
    "### Estimando la media para estatura y peso de ambas clases\n",
    "$$ \\hat{\\mu} = \\frac{\\sigma_{0}^2(\\sum_{i = 1}^n x^{(i)}) + \\sigma^2\\mu_0}{\\sigma_{0}^2n + \\sigma^2} $$"
   ]
  },
  {
   "cell_type": "code",
   "execution_count": 16,
   "metadata": {},
   "outputs": [],
   "source": [
    "def normal_map_mean(mu_0, sigma_0, sigma, X):\n",
    "    return (sigma_0*np.sum(X) + sigma*mu_0)/(sigma_0*len(X) + sigma)"
   ]
  },
  {
   "cell_type": "code",
   "execution_count": 17,
   "metadata": {},
   "outputs": [
    {
     "name": "stdout",
     "output_type": "stream",
     "text": [
      "[[[1.61688258e+00 1.76707832e+00]\n",
      "  [7.44722222e-03 2.02040816e-03]]\n",
      "\n",
      " [[6.00738274e+01 7.90539985e+01]\n",
      "  [7.10091667e+01 1.57657143e+01]]]\n"
     ]
    }
   ],
   "source": [
    "#media para estatura de mujer\n",
    "gauss_params[0, 0, 0] = normal_map_mean(gauss_map_params[0, 0, 0], gauss_map_params[0, 1, 0], gauss_params[0, 1, 0], df_mujer.Estatura)\n",
    "#media para peso de mujer\n",
    "gauss_params[1, 0, 0] = normal_map_mean(gauss_map_params[1, 0, 0], gauss_map_params[1, 1, 0], gauss_params[1, 1, 0], df_mujer.Peso)\n",
    "#media para estatura de mujer\n",
    "gauss_params[0, 0, 1] = normal_map_mean(gauss_map_params[0, 0, 1], gauss_map_params[0, 1, 1], gauss_params[0, 1, 1], df_hombre.Estatura)\n",
    "#media para peso de mujer\n",
    "gauss_params[1, 0, 1] = normal_map_mean(gauss_map_params[1, 0, 1], gauss_map_params[1, 1, 1], gauss_params[1, 1, 1], df_hombre.Peso)\n",
    "print(gauss_params)"
   ]
  },
  {
   "cell_type": "markdown",
   "metadata": {},
   "source": [
    "### Estimando el valor los parámetros para la distribución categórica del nombre, para cada clase, donde cada nombre corresponde a una categoría.\n",
    "$$ \\hat{q}_k = \\frac{c_k + \\alpha_k - 1}{n + \\sum_{k = 1}^K \\alpha_k - K}$$"
   ]
  },
  {
   "cell_type": "code",
   "execution_count": 18,
   "metadata": {},
   "outputs": [
    {
     "name": "stdout",
     "output_type": "stream",
     "text": [
      "{'Alex': 0.16666666666666666, 'Guadalupe': 0.25, 'Denis': 0.16666666666666666, 'Cris': 0.16666666666666666, 'Rene': 0.16666666666666666, 'Juan': 0.08333333333333333}\n",
      "{'Alex': 0.23076923076923078, 'Guadalupe': 0.15384615384615385, 'Denis': 0.15384615384615385, 'Cris': 0.15384615384615385, 'Rene': 0.07692307692307693, 'Juan': 0.23076923076923078}\n"
     ]
    }
   ],
   "source": [
    "c_m_map = dict(zip(names, [0]*len(names)))\n",
    "c_f_map = dict(zip(names, [0]*len(names)))\n",
    "for name in df_mujer.Nombre:\n",
    "    c_f_map[name]+=1\n",
    "for name in df_hombre.Nombre:\n",
    "    c_m_map[name]+=1\n",
    "for k, v in c_f_map.items():\n",
    "    c_f_map[k] = (v + alfa_cat - 1)/(float(len(df_mujer)) + alfa_cat * float(len(names)) - float(len(names)))\n",
    "for k, v in c_m_map.items():\n",
    "    c_m_map[k] = (v + alfa_cat - 1)/(float(len(df_hombre)) + alfa_cat * float(len(names)) - float(len(names)))\n",
    "print(c_f_map)\n",
    "print(c_m_map)"
   ]
  },
  {
   "cell_type": "markdown",
   "metadata": {},
   "source": [
    "### Predicciones usando EMV"
   ]
  },
  {
   "cell_type": "code",
   "execution_count": 19,
   "metadata": {},
   "outputs": [
    {
     "name": "stdout",
     "output_type": "stream",
     "text": [
      "0\n",
      "1\n",
      "1\n",
      "1\n",
      "0\n"
     ]
    }
   ],
   "source": [
    "for ejemplo in ejemplos:\n",
    "    #Mujer\n",
    "    n1 = q_ber_map_f*prob_categorica(c_f_map, ejemplo[0])*prob_normal(gauss_params[0, 0, 0], gauss_params[0, 1, 0], ejemplo[1], -.005, .005)*prob_normal(gauss_params[1, 0, 0], gauss_params[1, 1, 0], ejemplo[2], -.05, .05)\n",
    "    #Hombre\n",
    "    n2 = q_ber_map_m*prob_categorica(c_m_map, ejemplo[0])*prob_normal(gauss_params[0, 0, 1], gauss_params[0, 1, 1], ejemplo[1], -.005, .005)*prob_normal(gauss_params[1, 0, 1], gauss_params[1, 1, 1], ejemplo[2], -.05, .05)\n",
    "    print(np.argmax([n1, n2]))"
   ]
  },
  {
   "cell_type": "markdown",
   "metadata": {},
   "source": [
    "### Nota: En las predicciones, 0 representa mujer y 1 representa hombre"
   ]
  },
  {
   "cell_type": "code",
   "execution_count": null,
   "metadata": {},
   "outputs": [],
   "source": []
  }
 ],
 "metadata": {
  "kernelspec": {
   "display_name": "Python 3",
   "language": "python",
   "name": "python3"
  },
  "language_info": {
   "codemirror_mode": {
    "name": "ipython",
    "version": 3
   },
   "file_extension": ".py",
   "mimetype": "text/x-python",
   "name": "python",
   "nbconvert_exporter": "python",
   "pygments_lexer": "ipython3",
   "version": "3.7.6"
  }
 },
 "nbformat": 4,
 "nbformat_minor": 4
}
